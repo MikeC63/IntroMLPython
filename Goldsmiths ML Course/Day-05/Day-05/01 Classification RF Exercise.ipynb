{
 "cells": [
  {
   "cell_type": "markdown",
   "metadata": {
    "_cell_guid": "b1076dfc-b9ad-4769-8c92-a6c4dae69d19",
    "_uuid": "8f2839f25d086af736a60e9eeb907d3b93b6e0e5"
   },
   "source": [
    "# Predict Using Random Forest Classifier\n",
    "\n",
    "\n",
    "We are using scikit-learn Random Forest Classifier to predict, if a particular student has already completed **test preparation course** using *math, reading score,* and\t*writing scores* given.\n",
    "\n",
    "* so given how well they did in the course if we can predict if they did the preparation course before doing the course\n"
   ]
  },
  {
   "cell_type": "markdown",
   "metadata": {
    "_cell_guid": "79c7e3d0-c299-4dcb-8224-4455121ee9b0",
    "_uuid": "d629ff2d2480ee46fbb7e2d37f6b5fab8052498a",
    "collapsed": true
   },
   "source": [
    "***YOUR TURN*** Import pandas and numpy "
   ]
  },
  {
   "cell_type": "code",
   "execution_count": null,
   "metadata": {
    "_uuid": "4cb4e35d3c8ac8f2cd4d342d4c764a2c361902a8"
   },
   "outputs": [],
   "source": [
    "\n"
   ]
  },
  {
   "cell_type": "markdown",
   "metadata": {
    "_uuid": "c5a5785a173163fe0c2e94cce871f427319540c1"
   },
   "source": [
    "**YOUR TURN**  read the data from csv file"
   ]
  },
  {
   "cell_type": "markdown",
   "metadata": {
    "_uuid": "33c680c41ed8975f978d0278ef39d675408ae5dd"
   },
   "source": [
    "path = \"data/StudentsPerformance.csv\"\n",
    "\n",
    "***name*** your dataset ***df*** so the name will match with my code at the end of the notebook"
   ]
  },
  {
   "cell_type": "code",
   "execution_count": null,
   "metadata": {
    "_uuid": "56bc7667fe6ad8b44c740681dc5a8b21e0a3ae99"
   },
   "outputs": [],
   "source": [
    "# read csv\n",
    "df = pd.read_csv(\"data/StudentsPerformance.csv\")"
   ]
  },
  {
   "cell_type": "markdown",
   "metadata": {
    "_uuid": "88a553ad8c8f99f420f6d8be40adb2206a986f29"
   },
   "source": [
    "**YOUR TURN**  Read top few rows from the file using the head() method of Pandas."
   ]
  },
  {
   "cell_type": "code",
   "execution_count": null,
   "metadata": {
    "_uuid": "eec5bbc63179ea989692cafc5411fc04581b017d"
   },
   "outputs": [],
   "source": []
  },
  {
   "cell_type": "markdown",
   "metadata": {
    "_uuid": "042cd2808f4ffc6dfc3df7a8eebe8a8103859049"
   },
   "source": [
    "**YOUR TURN** Check missing values"
   ]
  },
  {
   "cell_type": "markdown",
   "metadata": {
    "_uuid": "8b312dae0f872d45e3ad7a9e8afdb88d80e69a01"
   },
   "source": [
    ".<code>isnull()</code> and <code>sum()</code> is used to find whether there are any missing values in the CSV file."
   ]
  },
  {
   "cell_type": "code",
   "execution_count": null,
   "metadata": {
    "_uuid": "8a46d412112d51ed0edcc62d50c22984df867666"
   },
   "outputs": [],
   "source": []
  },
  {
   "cell_type": "markdown",
   "metadata": {
    "_uuid": "92a6eb1e36bd0922a05e9d277f946e202aa1e6cd"
   },
   "source": [
    "* We are going to consider the numerical features only for this first part of the task\n",
    "\n",
    "\n",
    "**YOUR TURN**  create a subset of the dataset called features from the original dataset and print the head\n",
    "\n",
    "hint.  df[['math score','reading score', 'writing score']]"
   ]
  },
  {
   "cell_type": "markdown",
   "metadata": {
    "_uuid": "b928876bc93c4074ec1556b4511b24fe995f4dca"
   },
   "source": [
    "\n"
   ]
  },
  {
   "cell_type": "code",
   "execution_count": null,
   "metadata": {
    "_uuid": "ab7be777ece4ffd9679380a4252c3f66509eb302"
   },
   "outputs": [],
   "source": [
    "\n"
   ]
  },
  {
   "cell_type": "markdown",
   "metadata": {
    "_uuid": "892f93375f27b48fa2c4893038bfba5e14a37fa3"
   },
   "source": [
    "**YOUR TURN**  create a subset of the dataset called labels that only contains 'test preparation course' (our target)"
   ]
  },
  {
   "cell_type": "code",
   "execution_count": null,
   "metadata": {
    "_uuid": "2ec43d37f8227993e9777763966957a54dbd0294"
   },
   "outputs": [],
   "source": []
  },
  {
   "cell_type": "markdown",
   "metadata": {},
   "source": [
    "**YOUR TURN**  import the library Seaborn and plot the pairplot graph of the original dataset using the target 'test preparation course' as the hue of the graph\n",
    "* notice that the graph simply discards the categorical values of the features but registers the categorical values of the target"
   ]
  },
  {
   "cell_type": "code",
   "execution_count": null,
   "metadata": {},
   "outputs": [],
   "source": [
    "\n"
   ]
  },
  {
   "cell_type": "markdown",
   "metadata": {},
   "source": [
    "* do you think the data are easily separable by a decision tree algorithm? Probably yes\n",
    "* if so will the algorithm generalise well on unseen data? For answer this last question we need to evaluate the model."
   ]
  },
  {
   "cell_type": "markdown",
   "metadata": {
    "_uuid": "892099d296254f112cc76e642cbc30765dcfea3d"
   },
   "source": [
    "**YOUR TURN** Split the data into train and test set\n",
    "    use the variables that you created above\n",
    "* use x = features \n",
    "* use y = labels\n",
    "* remember to import the library from sklearn.model_selection import train_test_split"
   ]
  },
  {
   "cell_type": "markdown",
   "metadata": {
    "_uuid": "bbde31b31342534ccb31c0ea3bc56fe8da933a46"
   },
   "source": [
    "Split arrays or matrices into random *train* and *test* subsets."
   ]
  },
  {
   "cell_type": "code",
   "execution_count": null,
   "metadata": {
    "_uuid": "c429f1702af2456a165f7c33423fa52900baa9f6"
   },
   "outputs": [],
   "source": [
    "# split train test data set\n",
    "\n"
   ]
  },
  {
   "cell_type": "markdown",
   "metadata": {
    "_uuid": "d8301ac736487454b8dddeb952bbe362de7346ae"
   },
   "source": [
    "## Random Forest Classifier"
   ]
  },
  {
   "cell_type": "markdown",
   "metadata": {
    "_uuid": "40eb1f5835c3bc4e8c50e25e89525a33206b9d53"
   },
   "source": [
    "**Random Forest Classifier**"
   ]
  },
  {
   "cell_type": "markdown",
   "metadata": {
    "_uuid": "6dbe85ca5be2512bf983f8821380a631dc3f06f7"
   },
   "source": [
    "<p>A random forest is* a meta estimator* that fits a number of decision tree classifiers on various sub-samples of the dataset and uses averaging to improve the predictive accuracy and control over-fitting.</p>\n",
    "\n",
    "<code>n_estimators</code> <i>integer, optional (default=10)</i>  The number of trees in the forest.<br/>\n",
    "\n"
   ]
  },
  {
   "cell_type": "markdown",
   "metadata": {},
   "source": [
    "***YOUR TURN*** \n",
    "*import the random forest classifier library\n",
    "*create a random forest classifier object with 10 estimator"
   ]
  },
  {
   "cell_type": "code",
   "execution_count": null,
   "metadata": {
    "_uuid": "bd9c293925c960079330f0e9d5220b21e49109a9"
   },
   "outputs": [],
   "source": [
    "\n"
   ]
  },
  {
   "cell_type": "markdown",
   "metadata": {
    "_uuid": "01b1c5b309e2ec59acbdb22925cd2f6d4618c9e8"
   },
   "source": [
    "**Fit X_Train and y_Train**"
   ]
  },
  {
   "cell_type": "markdown",
   "metadata": {
    "_uuid": "8afc4b82c3f9f745a803d98a89a608e6a348858d"
   },
   "source": [
    "<code>fit(()</code>Build a forest of trees from the training set (X, y)."
   ]
  },
  {
   "cell_type": "markdown",
   "metadata": {},
   "source": [
    "***YOUR TURN*** fit the X_train and y_train to the classifier that you have created"
   ]
  },
  {
   "cell_type": "code",
   "execution_count": null,
   "metadata": {
    "_uuid": "337d83613f4d8497ed52ddce97a8642cad8ce374"
   },
   "outputs": [],
   "source": []
  },
  {
   "cell_type": "markdown",
   "metadata": {},
   "source": [
    "***YOUR TURN*** print the score of the training data \n",
    "hint: use score method and X_train and y_train"
   ]
  },
  {
   "cell_type": "markdown",
   "metadata": {
    "_uuid": "ea12e0cc56b07a449f31a7cd86b4243d80d99690"
   },
   "source": [
    "<code>score()</code> Returns the mean accuracy on the given test data and labels."
   ]
  },
  {
   "cell_type": "code",
   "execution_count": null,
   "metadata": {
    "_uuid": "aebeb0f592c2589d982a08e22e149a59e4757dd0"
   },
   "outputs": [],
   "source": []
  },
  {
   "cell_type": "markdown",
   "metadata": {},
   "source": [
    "***YOUR TURN*** print the score of the testing data \n",
    "hint: use score method and X_test and y_test"
   ]
  },
  {
   "cell_type": "code",
   "execution_count": null,
   "metadata": {
    "_uuid": "cc07d29e68de6dff6c278c71af285cceee3b1d9d"
   },
   "outputs": [],
   "source": []
  },
  {
   "cell_type": "markdown",
   "metadata": {},
   "source": [
    "Looks like the model is not able to generalise very well on unseen data. Let's investigate more evaluation metrics"
   ]
  },
  {
   "cell_type": "markdown",
   "metadata": {
    "_uuid": "f0a3675d40ba84086ff803893388b17991cf7352"
   },
   "source": [
    "**Predict** we are using strings (letters) in the labels column (Random Forest allows us to do so)"
   ]
  },
  {
   "cell_type": "markdown",
   "metadata": {},
   "source": [
    "***YOUR TURN*** store in a variable called predictions the predicted values of the classifier for the X_test using the predict methos"
   ]
  },
  {
   "cell_type": "code",
   "execution_count": null,
   "metadata": {
    "_uuid": "7fd400f68e94901d612d450954bd5d0cb118e4dc"
   },
   "outputs": [],
   "source": []
  },
  {
   "cell_type": "markdown",
   "metadata": {},
   "source": [
    "***YOUR TURN*** import from sklearn.metrics import classification_report and print the classification report of your true labels y_test compared to the predictions"
   ]
  },
  {
   "cell_type": "code",
   "execution_count": null,
   "metadata": {},
   "outputs": [],
   "source": [
    "\n"
   ]
  },
  {
   "cell_type": "markdown",
   "metadata": {},
   "source": [
    "### EXTRA \n",
    "\n",
    "we only used 3 features of our dataset. Will the other features create a better classifier?\n",
    "\n",
    "***df*** is the name of the original dataset if you have used another name please change the name accordingly"
   ]
  },
  {
   "cell_type": "code",
   "execution_count": null,
   "metadata": {},
   "outputs": [],
   "source": [
    "# here we are storing all the features from the original dataset \n"
   ]
  },
  {
   "cell_type": "code",
   "execution_count": null,
   "metadata": {},
   "outputs": [],
   "source": [
    "# if you called the variable featuresAll uncomment the line below or use your variable name to print the head()\n",
    "#featuresAll.head()"
   ]
  },
  {
   "cell_type": "markdown",
   "metadata": {},
   "source": [
    "***we are converting the categorical values into number 0 or 1 using the dummies method in pandas as we did last time***\n",
    "in theory DT can work even without this step but scikit learn has not implemented this yet"
   ]
  },
  {
   "cell_type": "code",
   "execution_count": null,
   "metadata": {},
   "outputs": [],
   "source": [
    "\n"
   ]
  },
  {
   "cell_type": "code",
   "execution_count": null,
   "metadata": {},
   "outputs": [],
   "source": [
    "#featuresAll.head()"
   ]
  },
  {
   "cell_type": "markdown",
   "metadata": {},
   "source": [
    "### YOUR TURN\n",
    "\n",
    "* split the data again : featuresAll are the features and labels are the labels"
   ]
  },
  {
   "cell_type": "code",
   "execution_count": null,
   "metadata": {},
   "outputs": [],
   "source": [
    "# test split on the data \n"
   ]
  },
  {
   "cell_type": "markdown",
   "metadata": {},
   "source": [
    "***YOUR TURN*** create a second classifier name it RandomForest2 again with 10 estimator"
   ]
  },
  {
   "cell_type": "code",
   "execution_count": null,
   "metadata": {},
   "outputs": [],
   "source": []
  },
  {
   "cell_type": "markdown",
   "metadata": {},
   "source": [
    "***YOUR TURN*** fit the X_train and y_train to the new classifier"
   ]
  },
  {
   "cell_type": "code",
   "execution_count": null,
   "metadata": {},
   "outputs": [],
   "source": []
  },
  {
   "cell_type": "markdown",
   "metadata": {},
   "source": [
    "***YOUR TURN*** print the score for training and for testing"
   ]
  },
  {
   "cell_type": "code",
   "execution_count": null,
   "metadata": {},
   "outputs": [],
   "source": []
  },
  {
   "cell_type": "code",
   "execution_count": null,
   "metadata": {},
   "outputs": [],
   "source": []
  },
  {
   "cell_type": "markdown",
   "metadata": {},
   "source": [
    "***Do you see an improvement in the model***?"
   ]
  },
  {
   "cell_type": "markdown",
   "metadata": {},
   "source": [
    "remember that Random Forest is random so it is not always so clear to answer this question"
   ]
  },
  {
   "cell_type": "markdown",
   "metadata": {},
   "source": [
    "***YOUR TURN*** create the predictions from the X_test and print the classification report"
   ]
  },
  {
   "cell_type": "markdown",
   "metadata": {},
   "source": [
    "**Predict** we are using strings (letters) in the labels column (Random Forest allows us to do so)"
   ]
  },
  {
   "cell_type": "code",
   "execution_count": null,
   "metadata": {},
   "outputs": [],
   "source": []
  },
  {
   "cell_type": "code",
   "execution_count": null,
   "metadata": {},
   "outputs": [],
   "source": [
    "\n"
   ]
  },
  {
   "cell_type": "markdown",
   "metadata": {},
   "source": [
    "### YOUR TURN\n",
    "\n",
    "* print the features importances\n",
    "* in the solution you will see a different method that turns the result into a dataframe for nicer plotting and the ability to sort the result"
   ]
  },
  {
   "cell_type": "code",
   "execution_count": null,
   "metadata": {},
   "outputs": [],
   "source": [
    "\n"
   ]
  },
  {
   "cell_type": "markdown",
   "metadata": {},
   "source": [
    "***the addition of the other features might not improve the model*** \n",
    "\n",
    "*  there is a big step beween the reading/math score and the first added feature but maybe..."
   ]
  },
  {
   "cell_type": "markdown",
   "metadata": {},
   "source": [
    "***YOUR TURN*** try to increase the number of estimator on both classifiers and see the results\n",
    "***simply change the parameter in the codes above*** do not write it again. Try 1000 for example"
   ]
  },
  {
   "cell_type": "markdown",
   "metadata": {},
   "source": [
    "* In conclusion The problem is that we probably need more data. \n"
   ]
  },
  {
   "cell_type": "markdown",
   "metadata": {},
   "source": [
    "* or we could try other models. but in this case we will have to label encode the target value"
   ]
  }
 ],
 "metadata": {
  "kernelspec": {
   "display_name": "Python 3",
   "language": "python",
   "name": "python3"
  },
  "language_info": {
   "codemirror_mode": {
    "name": "ipython",
    "version": 3
   },
   "file_extension": ".py",
   "mimetype": "text/x-python",
   "name": "python",
   "nbconvert_exporter": "python",
   "pygments_lexer": "ipython3",
   "version": "3.7.1"
  },
  "widgets": {
   "state": {},
   "version": "1.1.2"
  }
 },
 "nbformat": 4,
 "nbformat_minor": 1
}
