{
 "cells": [
  {
   "cell_type": "markdown",
   "metadata": {
    "_cell_guid": "7245c1bc-f261-4bc9-a8a5-a72d435ec798",
    "_uuid": "d9395b86d59a3530cbf47812b008900c189d65e0"
   },
   "source": [
    "#  K Nearest Neighbours (KNN) Classification Solution\n"
   ]
  },
  {
   "cell_type": "markdown",
   "metadata": {
    "_cell_guid": "7245c1bc-f261-4bc9-a8a5-a72d435ec798",
    "_uuid": "d9395b86d59a3530cbf47812b008900c189d65e0"
   },
   "source": [
    "![alt text](data/titanic.png \"Title\")\n"
   ]
  },
  {
   "cell_type": "markdown",
   "metadata": {},
   "source": [
    "https://www.kaggle.com/c/titanic\n",
    "\n",
    "### Competition Description\n",
    "\n",
    "The sinking of the RMS Titanic is one of the most infamous shipwrecks in history.  On April 15, 1912, during her maiden voyage, the Titanic sank after colliding with an iceberg, killing 1502 out of 2224 passengers and crew. \n",
    "One of the reasons that the shipwreck led to such loss of life was that there were not enough lifeboats for the passengers and crew. Although there was some element of luck involved in surviving the sinking, some groups of people were more likely to survive than others, such as women, children, and the upper-class.\n",
    "\n",
    "* Can you predict if a person  of age 35 and fare 450 would have survived?\n",
    "\n",
    "* part of the cells are already completed for you , roughly in the middle there is a \"YOUR TURN\" .. where you will have to insert your code"
   ]
  },
  {
   "cell_type": "markdown",
   "metadata": {},
   "source": [
    "## 1. Analyse your Data"
   ]
  },
  {
   "cell_type": "markdown",
   "metadata": {},
   "source": [
    "##### <font color='red'>Python:</font>\n",
    "\n",
    "* to get access to the functionality of a library we always need to tell the program to import that library. We use import and the name of the library. Since we will have to type the name of the library everytime we want to access its methods we use the keyword 'as' to make the name shorter. "
   ]
  },
  {
   "cell_type": "code",
   "execution_count": null,
   "metadata": {
    "_cell_guid": "b1076dfc-b9ad-4769-8c92-a6c4dae69d19",
    "_kg_hide-input": true,
    "_kg_hide-output": true,
    "_uuid": "8f2839f25d086af736a60e9eeb907d3b93b6e0e5"
   },
   "outputs": [],
   "source": [
    "import numpy as np \n",
    "import pandas as pd "
   ]
  },
  {
   "cell_type": "markdown",
   "metadata": {},
   "source": [
    "##### <font color='red'>Python:</font>\n",
    "\n",
    "* to load a dataset we use the command pd.read_csv and we pass the path to the csv file .\n",
    "* the data are stored in the data folder that you downloaded\n"
   ]
  },
  {
   "cell_type": "code",
   "execution_count": null,
   "metadata": {
    "_cell_guid": "4e6c0514-9039-46c0-8e80-2ad89bda88c7",
    "_uuid": "69cae2126e7894dc51ce7576490229225768bd88"
   },
   "outputs": [],
   "source": [
    "# This is only the training set\n",
    "data=pd.read_csv(\"data/titanic.csv\")"
   ]
  },
  {
   "cell_type": "markdown",
   "metadata": {},
   "source": [
    "##### <font color='red'>Python:</font>\n",
    "\n",
    "* now all the data are stored in the object called data. \n",
    "* to get the idea of the data we can use:\n",
    "    * .shape\n",
    "    * .describe()\n",
    "    * .info()\n",
    "    "
   ]
  },
  {
   "cell_type": "code",
   "execution_count": null,
   "metadata": {},
   "outputs": [],
   "source": [
    "# data.shape  this is an attribute of the data\n",
    "data.shape"
   ]
  },
  {
   "cell_type": "code",
   "execution_count": null,
   "metadata": {},
   "outputs": [],
   "source": [
    "# data.describe() this is a method call -->  notice the difference between a method and an attribute \n",
    "data.describe()"
   ]
  },
  {
   "cell_type": "code",
   "execution_count": null,
   "metadata": {},
   "outputs": [],
   "source": [
    "# data.info() this is a method call\n",
    "data.info()"
   ]
  },
  {
   "cell_type": "markdown",
   "metadata": {},
   "source": [
    "#### selecting only some columns for our model\n",
    "the info method returned that there are some missing values in the dataset. For instance, there 891 entries but Age column has only 714 non-null value. This is a problem we need to fix. Also for the purpose of this exercise we will focus only on two features and one label:\n",
    "\n",
    "    * Age --> FEATURE \n",
    "    * Fare  --> FEATURE\n",
    "    * Survived --> TARGET"
   ]
  },
  {
   "cell_type": "markdown",
   "metadata": {},
   "source": [
    "##### <font color='red'>Python:</font>\n",
    "\n",
    "* to select only specific columns in a dataset we use indexing. Indexing is done by adding the square brackets and the name of the columns in double quotes as a list of names.\n",
    "* We then assign the selection to the original data variable. So the object data is only made of 3 columns now\n",
    "* data.hea() is a method that will show the first 5 rows of the data ( it makes the visualisation more compact)"
   ]
  },
  {
   "cell_type": "code",
   "execution_count": null,
   "metadata": {
    "_cell_guid": "4e6c0514-9039-46c0-8e80-2ad89bda88c7",
    "_uuid": "69cae2126e7894dc51ce7576490229225768bd88"
   },
   "outputs": [],
   "source": [
    "data = data[[\"Survived\",\"Age\",\"Fare\"]]\n",
    "data.head()"
   ]
  },
  {
   "cell_type": "markdown",
   "metadata": {},
   "source": [
    "##### <font color='red'>Python:</font>\n",
    "\n",
    "* the column Age had some missing value. This time we decide to fill the value with the mean of the column. This is a decision we make, alternatevely we could have dropped the rows with the missing values or find a more elegant way to fill the missing value. For instance we could calculate two means, one for women and one for men."
   ]
  },
  {
   "cell_type": "code",
   "execution_count": null,
   "metadata": {},
   "outputs": [],
   "source": [
    "# we fill the null values with the mean of the column\n",
    "data=data.fillna(data.mean())"
   ]
  },
  {
   "cell_type": "markdown",
   "metadata": {},
   "source": [
    "##### <font color='red'>Python:</font>\n",
    "\n",
    "* another library for plotting is called matplotlib\n",
    "* here we plot a histogram of our target"
   ]
  },
  {
   "cell_type": "code",
   "execution_count": null,
   "metadata": {},
   "outputs": [],
   "source": [
    "import matplotlib.pyplot as plt"
   ]
  },
  {
   "cell_type": "code",
   "execution_count": null,
   "metadata": {},
   "outputs": [],
   "source": [
    "plt.hist(data[\"Survived\"])"
   ]
  },
  {
   "cell_type": "markdown",
   "metadata": {},
   "source": [
    "* 0 is not survived and 1 is survived"
   ]
  },
  {
   "cell_type": "markdown",
   "metadata": {},
   "source": [
    "##### <font color='red'>Python:</font>\n",
    "\n",
    "* the scatter plot is provided by the matplotlib library . it requires the x and y values and we can assign a color\n",
    "* we assign a different color for each class (survived or not) \n",
    "* also we set the alpha color to 0.5 to have a better visualisation of the dots "
   ]
  },
  {
   "cell_type": "code",
   "execution_count": null,
   "metadata": {
    "_cell_guid": "5097c772-e4aa-4adb-84f4-f5948fe534c0",
    "_uuid": "f8186b3db10afbe2912360623e07faca954fc2b4"
   },
   "outputs": [],
   "source": [
    "plt.scatter( x=data[\"Fare\"],y=data[\"Age\"], c=data[\"Survived\"], alpha = 0.5)"
   ]
  },
  {
   "cell_type": "markdown",
   "metadata": {
    "_cell_guid": "041a1aa8-3be2-4c6d-8e5f-e971f92c6f2a",
    "_uuid": "c8b603964154f15150aac252d3e54645d3148d38"
   },
   "source": [
    "\n",
    "Here Purple point implies that the person didn't survived \n",
    "\n",
    "\n",
    "\n"
   ]
  },
  {
   "cell_type": "markdown",
   "metadata": {
    "_cell_guid": "e631b281-7d8d-46a2-b400-e591be236573",
    "_uuid": "72ca37d1b081def95e7a33b3412cb07d2e18badf"
   },
   "source": [
    "# <font color='purple'>Your Turn:</font>\n",
    "\n",
    "#### <font color='blue'>try to create a model using KNN classifier in order to make prediction with the titanic dataset</font>\n",
    "\n",
    "your task are:\n",
    "\n",
    "* import the train_test_split module from sklearn.model_selection\n",
    "* understand which columns are your features and which are your labels\n",
    "* split the data in train and test set \n",
    "* load the KNeighborsClassifier\n",
    "* create the classifier with n_neighbors=20\n",
    "* fit your data (features and labels) to the model \n",
    "* check the accuracy of the model with different n_neighbors\n",
    "* deploy the model and make a prediction for a person of age 35 and fare 450\n"
   ]
  },
  {
   "cell_type": "markdown",
   "metadata": {},
   "source": [
    "## 2. Define the features X and the target y"
   ]
  },
  {
   "cell_type": "code",
   "execution_count": null,
   "metadata": {},
   "outputs": [],
   "source": [
    "\n"
   ]
  },
  {
   "cell_type": "code",
   "execution_count": null,
   "metadata": {},
   "outputs": [],
   "source": [
    "\n"
   ]
  },
  {
   "cell_type": "markdown",
   "metadata": {},
   "source": [
    "##### <font color='red'>Python:</font>\n",
    "\n",
    "* in order to evaluate our model we need to split into train and test set\n",
    "* we can use   train_test_split from sklearn.model_selection it also shuffles the data\n"
   ]
  },
  {
   "cell_type": "markdown",
   "metadata": {},
   "source": [
    "## 3. Divide the data into 2 splits: training set and testing set"
   ]
  },
  {
   "cell_type": "code",
   "execution_count": null,
   "metadata": {},
   "outputs": [],
   "source": []
  },
  {
   "cell_type": "code",
   "execution_count": null,
   "metadata": {},
   "outputs": [],
   "source": []
  },
  {
   "cell_type": "code",
   "execution_count": null,
   "metadata": {},
   "outputs": [],
   "source": [
    "\n"
   ]
  },
  {
   "cell_type": "code",
   "execution_count": null,
   "metadata": {},
   "outputs": [],
   "source": [
    "\n"
   ]
  },
  {
   "cell_type": "markdown",
   "metadata": {},
   "source": [
    "### 4. Create the model"
   ]
  },
  {
   "cell_type": "code",
   "execution_count": null,
   "metadata": {},
   "outputs": [],
   "source": []
  },
  {
   "cell_type": "code",
   "execution_count": null,
   "metadata": {},
   "outputs": [],
   "source": []
  },
  {
   "cell_type": "markdown",
   "metadata": {},
   "source": [
    "### 5. Train the model"
   ]
  },
  {
   "cell_type": "code",
   "execution_count": null,
   "metadata": {
    "scrolled": true
   },
   "outputs": [],
   "source": []
  },
  {
   "cell_type": "markdown",
   "metadata": {},
   "source": [
    "### 6. Evaluate the model"
   ]
  },
  {
   "cell_type": "code",
   "execution_count": null,
   "metadata": {
    "_cell_guid": "330cd155-7109-4e9d-8387-fcb46247d4db",
    "_uuid": "9072e8fc57dc9a8c731fde4a8aa1b88107cfff57"
   },
   "outputs": [],
   "source": [
    "# training accuracy\n"
   ]
  },
  {
   "cell_type": "markdown",
   "metadata": {},
   "source": [
    "test accucary:\n",
    "    to get the accuracy of the model we need to use the score method and pass our feature test and label test"
   ]
  },
  {
   "cell_type": "code",
   "execution_count": null,
   "metadata": {
    "scrolled": true
   },
   "outputs": [],
   "source": [
    "# Test accuracy\n"
   ]
  },
  {
   "cell_type": "markdown",
   "metadata": {},
   "source": [
    "### 7. Tune the parameters of the model to increase the performance"
   ]
  },
  {
   "cell_type": "code",
   "execution_count": null,
   "metadata": {},
   "outputs": [],
   "source": [
    "####### try to change the k in the previous cells and run the entire code again"
   ]
  },
  {
   "cell_type": "markdown",
   "metadata": {},
   "source": [
    "\n",
    "### 8. Make prediction"
   ]
  },
  {
   "cell_type": "code",
   "execution_count": null,
   "metadata": {
    "_cell_guid": "71b72012-0e4d-4111-90f3-2e0fe59e07b3",
    "_uuid": "eaf97a379f525d7d1565aa4cab67975bed66e6b1"
   },
   "outputs": [],
   "source": [
    "# age 35 and fare 450\n",
    "\n"
   ]
  },
  {
   "cell_type": "markdown",
   "metadata": {},
   "source": [
    "this person would survive"
   ]
  },
  {
   "cell_type": "code",
   "execution_count": null,
   "metadata": {},
   "outputs": [],
   "source": []
  }
 ],
 "metadata": {
  "kernelspec": {
   "display_name": "Python 3",
   "language": "python",
   "name": "python3"
  },
  "language_info": {
   "codemirror_mode": {
    "name": "ipython",
    "version": 3
   },
   "file_extension": ".py",
   "mimetype": "text/x-python",
   "name": "python",
   "nbconvert_exporter": "python",
   "pygments_lexer": "ipython3",
   "version": "3.7.1"
  },
  "widgets": {
   "state": {},
   "version": "1.1.2"
  }
 },
 "nbformat": 4,
 "nbformat_minor": 1
}
