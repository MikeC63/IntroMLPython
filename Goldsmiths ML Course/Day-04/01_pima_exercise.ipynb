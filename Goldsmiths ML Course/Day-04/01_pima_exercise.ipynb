{
 "cells": [
  {
   "cell_type": "markdown",
   "metadata": {
    "_uuid": "8dc03eb1c07979bf4fcadb2a0d722b9719d612c5"
   },
   "source": [
    "# Pima Diabetes Data Set \n",
    "\n",
    "Columns\n",
    "\n",
    "* pregnancies - Number of times pregnant\n",
    "* Glucose - Plasma glucose concentration a 2 hours in an oral glucose tolerance test\n",
    "* BloodPressure - Diastolic blood pressure (mm Hg)\n",
    "* SkinThickness - Triceps skin fold thickness (mm)\n",
    "* Insulin - 2-Hour serum insulin (mu U/ml)\n",
    "* BMI - Body mass index (weight in kg/(height in m)^2)\n",
    "* DiabetesPedigreeFunction - Diabetes pedigree function\n",
    "* Age - Age (years)\n",
    "*  Outcome - Class variable (0 or 1) class value 1 is interpreted as \"tested positive for diabetes\n",
    "\n",
    "Class distribution: \n",
    "* 0 : 500 (healthy)\n",
    "* 1 : 268 \n",
    "\n",
    "Data characteristics:\n",
    "\n",
    "The database contains only data about female patients who are of Pima heritage are 21 or older\n",
    "All the attributes are numeric\n",
    "The data may contain invalid or null values\n",
    "Total number of cases presented are 786"
   ]
  },
  {
   "cell_type": "markdown",
   "metadata": {
    "_uuid": "3d9419077be2a4ac81b0878daa84e982b0941412"
   },
   "source": [
    "## Loading Libraries\n",
    "\n",
    "* your task is to load the libraries that you usually need (Pandas , numpy, maplotlib.pyplot )\n",
    "* you can add the 'as' keyword so that you can use an abbreviation to call the function from the libraries\n",
    "* for example: import numpy as np"
   ]
  },
  {
   "cell_type": "code",
   "execution_count": null,
   "metadata": {
    "_uuid": "2e2d8715dbfd072b73cb96d4bcdf1f476498b4d9"
   },
   "outputs": [],
   "source": [
    "# show plots inside the notebook  \n",
    "%matplotlib inline \n",
    "\n",
    "\n",
    "\n"
   ]
  },
  {
   "cell_type": "markdown",
   "metadata": {
    "_uuid": "8470108b020a7f1c57e90b46c1a9c7dc92aa011e"
   },
   "source": [
    "## Data Loading\n",
    "\n",
    "* your task is to load the dataset\n",
    "* the dataset is located here: \"data/diabetes.csv\"\n",
    "* it is a csv file so you need a function for pandas to load the csv file\n",
    "* and you need to store the result into a variable"
   ]
  },
  {
   "cell_type": "code",
   "execution_count": null,
   "metadata": {
    "_uuid": "5657a1525a798a9b7f27dee842b3b5026bbaf464"
   },
   "outputs": [],
   "source": []
  },
  {
   "cell_type": "markdown",
   "metadata": {
    "_uuid": "cf3ec83b907b1bf89d30ce5222087c4060969ff7"
   },
   "source": [
    "Data Set Information:\n",
    "\n",
    "Several constraints were placed on the selection of these instances from a larger database. In particular, all patients here are females at least 21 years old of Pima heritage. \n",
    "\n",
    "Attribute Information:\n",
    "\n",
    "1. Number of times pregnant \n",
    "2. Plasma glucose concentration a 2 hours in an oral glucose tolerance test \n",
    "3. Diastolic blood pressure (mm Hg) \n",
    "4. Triceps skin fold thickness (mm) \n",
    "5. 2-Hour serum insulin (mu U/ml) \n",
    "6. Body mass index (weight in kg/(height in m)^2) \n",
    "7. Diabetes pedigree function \n",
    "8. Age (years) \n",
    "9. Class variable (0 or 1) - Outcome - Target"
   ]
  },
  {
   "cell_type": "markdown",
   "metadata": {
    "_uuid": "162b8a03a6b805d409f21094b057fdef41123651"
   },
   "source": [
    "## Data Checking\n",
    "\n",
    "* you have created the dataset object now use the method .info() to get more information of the dataset"
   ]
  },
  {
   "cell_type": "code",
   "execution_count": null,
   "metadata": {
    "_uuid": "7a00255d65110dd3332543419968ca6b603e6373"
   },
   "outputs": [],
   "source": []
  },
  {
   "cell_type": "markdown",
   "metadata": {},
   "source": [
    "* visualise on screen the 5 rows of the dataset by using the method .head() on your dataset object"
   ]
  },
  {
   "cell_type": "code",
   "execution_count": null,
   "metadata": {
    "_uuid": "566b24586dcfe8485fa060ed0df851f2260cd37a"
   },
   "outputs": [],
   "source": []
  },
  {
   "cell_type": "markdown",
   "metadata": {},
   "source": [
    "* now use the method describe()"
   ]
  },
  {
   "cell_type": "code",
   "execution_count": null,
   "metadata": {
    "_uuid": "be6f53666ec550d62ebd18a75a11270f82b095e2"
   },
   "outputs": [],
   "source": []
  },
  {
   "cell_type": "markdown",
   "metadata": {},
   "source": [
    "* your task now is to see if the target distribution is balanced. Do we have the same ammount of 0 and 1 in the outcome column. There are several way to achieve this, in the solution you will see a new way but use the one you prefer or google an alternative solution"
   ]
  },
  {
   "cell_type": "markdown",
   "metadata": {},
   "source": [
    "using value_counts()"
   ]
  },
  {
   "cell_type": "code",
   "execution_count": null,
   "metadata": {},
   "outputs": [],
   "source": []
  },
  {
   "cell_type": "markdown",
   "metadata": {
    "_uuid": "a9c370785139eaf514b8a9ff163a6ec510502cf0"
   },
   "source": [
    "Now we know that there are 768 people with an uneven distribution of the outcome (healthy:sick = 500:268). "
   ]
  },
  {
   "cell_type": "markdown",
   "metadata": {
    "_uuid": "19235faacc6f2029a696e5e15356fae8534870c8"
   },
   "source": [
    "## Data Stratification\n",
    "\n",
    "When we split the dataset into train and test datasets, the split is completely random. Thus the instances of each class label or outcome in the train or test datasets is random. Thus we may have many instances of class 1 in training data and less instances of class 2 in the training data. So during classification, we may have accurate predictions for class1 but not for class2. Thus we stratify the data, so that we have proportionate data for all the classes in both the training and testing data."
   ]
  },
  {
   "cell_type": "markdown",
   "metadata": {},
   "source": [
    "* YOUR TURN . load the train_test_split module from sklearn.model_selection"
   ]
  },
  {
   "cell_type": "code",
   "execution_count": null,
   "metadata": {
    "_uuid": "8b9fcfe266236f8601fd6bdf5a11045ce803eb32"
   },
   "outputs": [],
   "source": []
  },
  {
   "cell_type": "markdown",
   "metadata": {},
   "source": [
    "* YOUR TURN create the x and y (the features and the target variables) Using the code that we used in the previous notebook"
   ]
  },
  {
   "cell_type": "code",
   "execution_count": null,
   "metadata": {},
   "outputs": [],
   "source": [
    "\n"
   ]
  },
  {
   "cell_type": "markdown",
   "metadata": {},
   "source": [
    "* YOUR TURN divide into training and testing and use STRATIFY with the column Outcome\n",
    "* use random_state=101 if you want to have the same output at the end as mine"
   ]
  },
  {
   "cell_type": "code",
   "execution_count": null,
   "metadata": {
    "_uuid": "8b9fcfe266236f8601fd6bdf5a11045ce803eb32"
   },
   "outputs": [],
   "source": [
    "# divide into training and testing data - use stratify\n"
   ]
  },
  {
   "cell_type": "markdown",
   "metadata": {
    "_uuid": "2bc397373dd03a0959a39b73741dd693ec5cf251"
   },
   "source": [
    "## Make the Model"
   ]
  },
  {
   "cell_type": "markdown",
   "metadata": {},
   "source": [
    "* YOUR TURN import the LogisticRegression module from sklearn.linear_model"
   ]
  },
  {
   "cell_type": "code",
   "execution_count": null,
   "metadata": {
    "_uuid": "7fd761ab2c07ee7eb01851ef9e55ca09785e594b"
   },
   "outputs": [],
   "source": []
  },
  {
   "cell_type": "markdown",
   "metadata": {},
   "source": [
    "* YOUR TURN create the model by calling LogisticRegression and assigning to a variable that you can call model"
   ]
  },
  {
   "cell_type": "code",
   "execution_count": null,
   "metadata": {
    "_uuid": "7fd761ab2c07ee7eb01851ef9e55ca09785e594b"
   },
   "outputs": [],
   "source": []
  },
  {
   "cell_type": "markdown",
   "metadata": {},
   "source": [
    "* YOUR TURN fit the data to the model (X_train and y_train)"
   ]
  },
  {
   "cell_type": "code",
   "execution_count": null,
   "metadata": {
    "_uuid": "7fd761ab2c07ee7eb01851ef9e55ca09785e594b"
   },
   "outputs": [],
   "source": []
  },
  {
   "cell_type": "markdown",
   "metadata": {},
   "source": [
    "YOUR TURN collect the prediction into a variable called prediction from your x_test data"
   ]
  },
  {
   "cell_type": "code",
   "execution_count": null,
   "metadata": {
    "_uuid": "7fd761ab2c07ee7eb01851ef9e55ca09785e594b"
   },
   "outputs": [],
   "source": []
  },
  {
   "cell_type": "markdown",
   "metadata": {
    "_uuid": "b99a94c18450e140a9c6e0b56fd8f202334608cb"
   },
   "source": [
    "**accuracy**\n",
    "\n",
    "... is the percentage of correct predictions."
   ]
  },
  {
   "cell_type": "markdown",
   "metadata": {},
   "source": [
    "* YOUR TURN import the module metrics from sklearn"
   ]
  },
  {
   "cell_type": "code",
   "execution_count": null,
   "metadata": {
    "_uuid": "49f3ed8f45e3f3f0606dbac2f3694266b75b9ceb"
   },
   "outputs": [],
   "source": [
    "# calculate accuracy\n"
   ]
  },
  {
   "cell_type": "markdown",
   "metadata": {},
   "source": [
    "YOUR TURN calculate and print the accuracy score (use y_test and prediction) and accuracy score or simply score (x_test,y_test)"
   ]
  },
  {
   "cell_type": "code",
   "execution_count": null,
   "metadata": {
    "_uuid": "49f3ed8f45e3f3f0606dbac2f3694266b75b9ceb"
   },
   "outputs": [],
   "source": []
  },
  {
   "cell_type": "markdown",
   "metadata": {
    "_uuid": "f25666451b60612849e4afe3a03f106b4fa40fb9"
   },
   "source": [
    "**Confusion Matrix**"
   ]
  },
  {
   "cell_type": "markdown",
   "metadata": {},
   "source": [
    "YOUR TURN from sklearn.metrics import confusion_matrix"
   ]
  },
  {
   "cell_type": "code",
   "execution_count": null,
   "metadata": {
    "_uuid": "2bbaaf92e76322c17453ad2c3dd92de4853fc81c"
   },
   "outputs": [],
   "source": []
  },
  {
   "cell_type": "markdown",
   "metadata": {},
   "source": [
    "YOUR TURN print the confusion matrix"
   ]
  },
  {
   "cell_type": "code",
   "execution_count": null,
   "metadata": {
    "_uuid": "2bbaaf92e76322c17453ad2c3dd92de4853fc81c"
   },
   "outputs": [],
   "source": []
  },
  {
   "cell_type": "markdown",
   "metadata": {
    "_uuid": "fa0672bc7efe47b4b32e37a98c9effbd5db5f4c2",
    "collapsed": true
   },
   "source": [
    "the visual respresentation of the confusion matrix helps a lot. We can see the following in the table:\n",
    "\n",
    "index 0 = class 0: Person will have diabetes in 5 years<br />\n",
    "index 1 = class 1 : Person will NOT have diabetes in 5 years\n",
    "\n",
    "**True Positives (TP)**: (35) we correctly predicted that they do have diabetes<br />\n",
    "**True Negatives (TN)**: (112) we correctly predicted that they don't have diabetes<br />\n",
    "**False Positives (FP)**: (32) we incorrectly predicted that they do have diabetes<br />\n",
    "**False Negatives (FN)**: (13) we incorrectly predicted that they don't have diabetes\n",
    "\n",
    "From these values we can calculate the following classification metrics:\n",
    "\n",
    "**Sensitivity** (aka \"True Positive Rate\" or \"Recall\"): When the actual value is positive, how often is the prediction correct?\n",
    "- Something we want to maximize\n",
    "- How \"sensitive\" is the classifier to detecting positive instances?\n",
    "\n",
    "\n"
   ]
  },
  {
   "cell_type": "markdown",
   "metadata": {},
   "source": [
    "### classification report"
   ]
  },
  {
   "cell_type": "markdown",
   "metadata": {},
   "source": [
    "YOUR TURN from sklearn.metrics import classification_report"
   ]
  },
  {
   "cell_type": "code",
   "execution_count": null,
   "metadata": {},
   "outputs": [],
   "source": []
  },
  {
   "cell_type": "markdown",
   "metadata": {},
   "source": [
    "YOUR TURN print the classification report of your y_test and prediction"
   ]
  },
  {
   "cell_type": "code",
   "execution_count": null,
   "metadata": {},
   "outputs": [],
   "source": []
  },
  {
   "cell_type": "markdown",
   "metadata": {
    "_uuid": "803ec3d337641ce20263349b9f556c1ec8df6d1d",
    "collapsed": true
   },
   "source": [
    "Right now we have a model that is quiet good in correctly detecting if a patient is healthy in 5 years (112 true negative == 0.90% of recall). But I think it's more important to find people, which will be sick in 5 years to apply preventive measures. We can adjust our model by changing the classification threshold."
   ]
  },
  {
   "cell_type": "markdown",
   "metadata": {
    "_uuid": "441c1d11b141adf6260203f40b2f6a9abb209dda",
    "collapsed": true
   },
   "source": [
    "**Classification Threshold**"
   ]
  },
  {
   "cell_type": "markdown",
   "metadata": {},
   "source": [
    "YOUR TURN save in a variable called save_predictions_proba the predicted probability from your X_test of being survived (column 1 of the predicted probability)"
   ]
  },
  {
   "cell_type": "code",
   "execution_count": null,
   "metadata": {
    "_uuid": "03efe6e9246a33eadddb92f2d3646ef4ab8625f7"
   },
   "outputs": [],
   "source": []
  },
  {
   "cell_type": "markdown",
   "metadata": {},
   "source": [
    "YOUR TURN print the histogram of the predicted probabilities so that you can have an idea of what other threshold you can potentially use to construct a model with higher recall"
   ]
  },
  {
   "cell_type": "code",
   "execution_count": null,
   "metadata": {
    "_uuid": "03efe6e9246a33eadddb92f2d3646ef4ab8625f7"
   },
   "outputs": [],
   "source": [
    "# histogram of predicted probabilities\n"
   ]
  },
  {
   "cell_type": "markdown",
   "metadata": {
    "_uuid": "28e9e1dbe788a3aa4118ccfd6b00a9b91f131121",
    "collapsed": true
   },
   "source": [
    "Just a small number of observations with probability > 0.5, most observations have a probability < 0.5 and would be predicted \"no diabetes\" in our case. We can increase the sensitivity (increase number of TP) of the classifier by decreasing the threshold for predicting diabetes."
   ]
  },
  {
   "cell_type": "markdown",
   "metadata": {},
   "source": [
    "YOUR TURN from sklearn.preprocessing import binarize"
   ]
  },
  {
   "cell_type": "code",
   "execution_count": null,
   "metadata": {
    "_uuid": "67c7a85e7025caa0a7db46c65d931c7121e504c7"
   },
   "outputs": [],
   "source": []
  },
  {
   "cell_type": "markdown",
   "metadata": {},
   "source": [
    "YOUR TURN use the binarize class that you imported to store in a variable prediction2 the new predictions with a threshold of 0.3 (remember that you need to reshape the save_predictions_proba you created before"
   ]
  },
  {
   "cell_type": "code",
   "execution_count": null,
   "metadata": {
    "_uuid": "67c7a85e7025caa0a7db46c65d931c7121e504c7"
   },
   "outputs": [],
   "source": []
  },
  {
   "cell_type": "markdown",
   "metadata": {},
   "source": [
    "YOUR TURN print the new confusion matrix (y_test and prediction2)\n",
    "PS. you already imported the library "
   ]
  },
  {
   "cell_type": "code",
   "execution_count": null,
   "metadata": {
    "_uuid": "3d2d3091fd406a6069363ffebf6c7d3d516cfd4c"
   },
   "outputs": [],
   "source": []
  },
  {
   "cell_type": "markdown",
   "metadata": {},
   "source": [
    "YOUR TURN print the classification report"
   ]
  },
  {
   "cell_type": "code",
   "execution_count": null,
   "metadata": {},
   "outputs": [],
   "source": []
  },
  {
   "cell_type": "markdown",
   "metadata": {
    "_uuid": "6752e854bb2bc98a73598ca7252e503779884bf5"
   },
   "source": [
    "Observations: \n",
    "\n",
    "- Threshold of 0.5 is used by default (for binary problems) to convert predicted probabilities into class predictions\n",
    "- Threshold can be adjusted to increase sensitivity\n",
    "\n",
    "- Adjusting the threshold should be one of the last steps you do in the model-building process"
   ]
  },
  {
   "cell_type": "code",
   "execution_count": null,
   "metadata": {},
   "outputs": [],
   "source": []
  }
 ],
 "metadata": {
  "kernelspec": {
   "display_name": "Python 3",
   "language": "python",
   "name": "python3"
  },
  "language_info": {
   "codemirror_mode": {
    "name": "ipython",
    "version": 3
   },
   "file_extension": ".py",
   "mimetype": "text/x-python",
   "name": "python",
   "nbconvert_exporter": "python",
   "pygments_lexer": "ipython3",
   "version": "3.7.1"
  },
  "widgets": {
   "state": {},
   "version": "1.1.2"
  }
 },
 "nbformat": 4,
 "nbformat_minor": 1
}
